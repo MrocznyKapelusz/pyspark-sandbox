{
 "cells": [
  {
   "cell_type": "code",
   "execution_count": 34,
   "metadata": {},
   "outputs": [],
   "source": [
    "import pandas as pd\n",
    "import numpy as np\n",
    "import pyspark\n",
    "from pyspark.sql import SparkSession\n",
    "from pyspark.sql import functions as f "
   ]
  },
  {
   "cell_type": "code",
   "execution_count": 7,
   "metadata": {},
   "outputs": [],
   "source": [
    "spark = SparkSession.builder.appName(\"Sandbox\").getOrCreate()"
   ]
  },
  {
   "cell_type": "code",
   "execution_count": 20,
   "metadata": {},
   "outputs": [
    {
     "name": "stdout",
     "output_type": "stream",
     "text": [
      "+------------+-------+-----------+-------------------+-----+--------------+-----+------+-----+-----+-----+-----------+-------+--------------------+--------------------+-------------+---------------+-------------------+----------+-----+\n",
      "|RecordNumber|Zipcode|ZipCodeType|               City|State|  LocationType|  Lat|  Long|Xaxis|Yaxis|Zaxis|WorldRegion|Country|        LocationText|            Location|Decommisioned|TaxReturnsFiled|EstimatedPopulation|TotalWages|Notes|\n",
      "+------------+-------+-----------+-------------------+-----+--------------+-----+------+-----+-----+-----+-----------+-------+--------------------+--------------------+-------------+---------------+-------------------+----------+-----+\n",
      "|           1|    704|   STANDARD|        PARC PARQUE|   PR|NOT ACCEPTABLE|17.96|-66.22| 0.38|-0.87|  0.3|         NA|     US|     Parc Parque, PR|NA-US-PR-PARC PARQUE|        false|           null|               null|      null| null|\n",
      "|           2|    704|   STANDARD|PASEO COSTA DEL SUR|   PR|NOT ACCEPTABLE|17.96|-66.22| 0.38|-0.87|  0.3|         NA|     US|Paseo Costa Del S...|NA-US-PR-PASEO CO...|        false|           null|               null|      null| null|\n",
      "|          10|    709|   STANDARD|       BDA SAN LUIS|   PR|NOT ACCEPTABLE|18.14|-66.26| 0.38|-0.86| 0.31|         NA|     US|    Bda San Luis, PR|NA-US-PR-BDA SAN ...|        false|           null|               null|      null| null|\n",
      "+------------+-------+-----------+-------------------+-----+--------------+-----+------+-----+-----+-----+-----------+-------+--------------------+--------------------+-------------+---------------+-------------------+----------+-----+\n",
      "only showing top 3 rows\n",
      "\n"
     ]
    }
   ],
   "source": [
    "df = spark.read.csv(\"zipcodes.csv\", header=True, inferSchema=True)\n",
    "df.show(3)"
   ]
  },
  {
   "cell_type": "code",
   "execution_count": 21,
   "metadata": {},
   "outputs": [
    {
     "name": "stdout",
     "output_type": "stream",
     "text": [
      "root\n",
      " |-- RecordNumber: integer (nullable = true)\n",
      " |-- Zipcode: integer (nullable = true)\n",
      " |-- ZipCodeType: string (nullable = true)\n",
      " |-- City: string (nullable = true)\n",
      " |-- State: string (nullable = true)\n",
      " |-- LocationType: string (nullable = true)\n",
      " |-- Lat: double (nullable = true)\n",
      " |-- Long: double (nullable = true)\n",
      " |-- Xaxis: double (nullable = true)\n",
      " |-- Yaxis: double (nullable = true)\n",
      " |-- Zaxis: double (nullable = true)\n",
      " |-- WorldRegion: string (nullable = true)\n",
      " |-- Country: string (nullable = true)\n",
      " |-- LocationText: string (nullable = true)\n",
      " |-- Location: string (nullable = true)\n",
      " |-- Decommisioned: boolean (nullable = true)\n",
      " |-- TaxReturnsFiled: integer (nullable = true)\n",
      " |-- EstimatedPopulation: integer (nullable = true)\n",
      " |-- TotalWages: integer (nullable = true)\n",
      " |-- Notes: string (nullable = true)\n",
      "\n"
     ]
    }
   ],
   "source": [
    "df.printSchema()"
   ]
  },
  {
   "cell_type": "code",
   "execution_count": 22,
   "metadata": {},
   "outputs": [
    {
     "data": {
      "text/plain": [
       "Row(RecordNumber=1, Zipcode=704, ZipCodeType='STANDARD', City='PARC PARQUE', State='PR', LocationType='NOT ACCEPTABLE', Lat=17.96, Long=-66.22, Xaxis=0.38, Yaxis=-0.87, Zaxis=0.3, WorldRegion='NA', Country='US', LocationText='Parc Parque, PR', Location='NA-US-PR-PARC PARQUE', Decommisioned=False, TaxReturnsFiled=None, EstimatedPopulation=None, TotalWages=None, Notes=None)"
      ]
     },
     "execution_count": 22,
     "metadata": {},
     "output_type": "execute_result"
    }
   ],
   "source": [
    "df.head()"
   ]
  },
  {
   "cell_type": "code",
   "execution_count": 36,
   "metadata": {},
   "outputs": [
    {
     "name": "stdout",
     "output_type": "stream",
     "text": [
      "+-----+-----+\n",
      "|State|count|\n",
      "+-----+-----+\n",
      "|   PR|    6|\n",
      "|   FL|    4|\n",
      "|   AL|    3|\n",
      "|   NC|    3|\n",
      "|   TX|    3|\n",
      "|   AZ|    2|\n",
      "+-----+-----+\n",
      "\n"
     ]
    }
   ],
   "source": [
    "df.groupBy('State').count().sort(f.desc('count')).show(10)"
   ]
  },
  {
   "cell_type": "code",
   "execution_count": null,
   "metadata": {},
   "outputs": [
    {
     "name": "stdout",
     "output_type": "stream",
     "text": [
      "+-------+\n",
      "|Country|\n",
      "+-------+\n",
      "|     US|\n",
      "+-------+\n",
      "\n"
     ]
    }
   ],
   "source": [
    "df.createOrReplaceTempView('zipcodes')\n",
    "spark.sql('select distinct Country from zipcodes').show()"
   ]
  },
  {
   "cell_type": "code",
   "execution_count": null,
   "metadata": {},
   "outputs": [],
   "source": [
    "df = df.drop('Notes')"
   ]
  },
  {
   "cell_type": "code",
   "execution_count": null,
   "metadata": {},
   "outputs": [
    {
     "name": "stdout",
     "output_type": "stream",
     "text": [
      "+------------+-------+-----------+-----------+-----+--------------+-----+-------+-----+-----+-----+-----------+-------+---------------+--------------------+-------------+---------------+-------------------+----------+\n",
      "|RecordNumber|Zipcode|ZipCodeType|       City|State|  LocationType|  Lat|   Long|Xaxis|Yaxis|Zaxis|WorldRegion|Country|   LocationText|            Location|Decommisioned|TaxReturnsFiled|EstimatedPopulation|TotalWages|\n",
      "+------------+-------+-----------+-----------+-----+--------------+-----+-------+-----+-----+-----+-----------+-------+---------------+--------------------+-------------+---------------+-------------------+----------+\n",
      "|       61392|  76177|   STANDARD| FORT WORTH|   TX|       PRIMARY|32.75| -97.33| -0.1|-0.83| 0.54|         NA|     US| Fort Worth, TX| NA-US-TX-FORT WORTH|        false|           2126|               4053| 122396986|\n",
      "|       61393|  76177|   STANDARD|   FT WORTH|   TX|    ACCEPTABLE|32.75| -97.33| -0.1|-0.83| 0.54|         NA|     US|   Ft Worth, TX|   NA-US-TX-FT WORTH|        false|           2126|               4053| 122396986|\n",
      "|       39827|  85209|   STANDARD|       MESA|   AZ|       PRIMARY|33.37|-111.64| -0.3|-0.77| 0.55|         NA|     US|       Mesa, AZ|       NA-US-AZ-MESA|        false|          14962|              26883| 563792730|\n",
      "|       39828|  85210|   STANDARD|       MESA|   AZ|       PRIMARY|33.38|-111.84|-0.31|-0.77| 0.55|         NA|     US|       Mesa, AZ|       NA-US-AZ-MESA|        false|          14374|              25446| 471000465|\n",
      "|       49345|  32046|   STANDARD|   HILLIARD|   FL|       PRIMARY|30.69| -81.92| 0.12|-0.85| 0.51|         NA|     US|   Hilliard, FL|   NA-US-FL-HILLIARD|        false|           3922|               7443| 133112149|\n",
      "|       49347|  32564|   STANDARD|       HOLT|   FL|       PRIMARY|30.72| -86.67| 0.04|-0.85| 0.51|         NA|     US|       Holt, FL|       NA-US-FL-HOLT|        false|           1207|               2190|  36395913|\n",
      "|       54355|  35146|   STANDARD|SPRINGVILLE|   AL|       PRIMARY|33.77| -86.47| 0.05|-0.82| 0.55|         NA|     US|Springville, AL|NA-US-AL-SPRINGVILLE|        false|           4046|               7845| 172127599|\n",
      "|       54356|  35585|   STANDARD|SPRUCE PINE|   AL|       PRIMARY|34.37| -87.69| 0.03|-0.82| 0.56|         NA|     US|Spruce Pine, AL|NA-US-AL-SPRUCE PINE|        false|            610|               1209|  18525517|\n",
      "|       76511|  27007|   STANDARD|   ASH HILL|   NC|NOT ACCEPTABLE| 36.4| -80.56| 0.13|-0.79| 0.59|         NA|     US|   Ash Hill, NC|   NA-US-NC-ASH HILL|        false|            842|               1666|  28876493|\n",
      "|       76512|  27203|   STANDARD|   ASHEBORO|   NC|       PRIMARY|35.71| -79.81| 0.14|-0.79| 0.58|         NA|     US|   Asheboro, NC|   NA-US-NC-ASHEBORO|        false|           8355|              15228| 215474318|\n",
      "|       76513|  27204|     PO BOX|   ASHEBORO|   NC|       PRIMARY|35.71| -79.81| 0.14|-0.79| 0.58|         NA|     US|   Asheboro, NC|   NA-US-NC-ASHEBORO|        false|           1035|               1816|  30322473|\n",
      "+------------+-------+-----------+-----------+-----+--------------+-----+-------+-----+-----+-----+-----------+-------+---------------+--------------------+-------------+---------------+-------------------+----------+\n",
      "\n"
     ]
    }
   ],
   "source": [
    "df.na.drop(subset=['TotalWages']).show()"
   ]
  },
  {
   "cell_type": "code",
   "execution_count": 102,
   "metadata": {},
   "outputs": [
    {
     "name": "stdout",
     "output_type": "stream",
     "text": [
      "+-----+--------------+----------+------------------+\n",
      "|State|sum_population| sum_wages|       Wage/Person|\n",
      "+-----+--------------+----------+------------------+\n",
      "|   TX|          8106| 244793972| 30199.10831482852|\n",
      "|   AL|          9054| 190653116|21057.335542301746|\n",
      "|   AZ|         52329|1034793195| 19774.75577595597|\n",
      "|   FL|          9633| 169508062| 17596.60147409945|\n",
      "|   NC|         18710| 274673284|14680.560342063069|\n",
      "+-----+--------------+----------+------------------+\n",
      "\n"
     ]
    }
   ],
   "source": [
    "df_population = df.na.drop(subset=['EstimatedPopulation'])\n",
    "# df_population.show(10)\n",
    "# df_population.groupBy('State').sum('EstimatedPopulation')[\"sum(EstimatedPopulation)\"]\n",
    "df_grouped = df_population.groupBy('State').agg(f.sum('EstimatedPopulation').alias('sum_population'),f.sum('TotalWages').alias('sum_wages')).withColumn('Wage/Person', f.col('sum_wages')/f.col('sum_population')).sort(f.desc('Wage/Person'))\n",
    "df_grouped.show()\n",
    "# df_population.withColumn('StatePopulation',df_population.groupBy('State').agg(f.sum('EstimatedPopulation').alias('sum_population'))['sum_population'])\n",
    "# df_population.withColumn('StatePopulation',df_grouped)\n",
    "# .select(['State','StatePopulation'])"
   ]
  },
  {
   "cell_type": "code",
   "execution_count": null,
   "metadata": {},
   "outputs": [
    {
     "name": "stdout",
     "output_type": "stream",
     "text": [
      "+------------+-------+-----------+-------------------+-----+--------------+-----+-------+-----+-----+-----+-----------+-------+--------------------+--------------------+-------------+---------------+-------------------+----------+\n",
      "|RecordNumber|Zipcode|ZipCodeType|               City|State|  LocationType|  Lat|   Long|Xaxis|Yaxis|Zaxis|WorldRegion|Country|        LocationText|            Location|Decommisioned|TaxReturnsFiled|EstimatedPopulation|TotalWages|\n",
      "+------------+-------+-----------+-------------------+-----+--------------+-----+-------+-----+-----+-----+-----------+-------+--------------------+--------------------+-------------+---------------+-------------------+----------+\n",
      "|           1|    704|   STANDARD|        PARC PARQUE|   PR|NOT ACCEPTABLE|17.96| -66.22| 0.38|-0.87|  0.3|         NA|     US|     Parc Parque, PR|NA-US-PR-PARC PARQUE|        false|           null|               null|      null|\n",
      "|           2|    704|   STANDARD|PASEO COSTA DEL SUR|   PR|NOT ACCEPTABLE|17.96| -66.22| 0.38|-0.87|  0.3|         NA|     US|Paseo Costa Del S...|NA-US-PR-PASEO CO...|        false|           null|               null|      null|\n",
      "|          10|    709|   STANDARD|       BDA SAN LUIS|   PR|NOT ACCEPTABLE|18.14| -66.26| 0.38|-0.86| 0.31|         NA|     US|    Bda San Luis, PR|NA-US-PR-BDA SAN ...|        false|           null|               null|      null|\n",
      "|       61391|  76166|     UNIQUE|  CINGULAR WIRELESS|   TX|NOT ACCEPTABLE|32.72| -97.31| -0.1|-0.83| 0.54|         NA|     US|Cingular Wireless...|NA-US-TX-CINGULAR...|        false|           null|               null|      null|\n",
      "|       61392|  76177|   STANDARD|         FORT WORTH|   TX|       PRIMARY|32.75| -97.33| -0.1|-0.83| 0.54|         NA|     US|      Fort Worth, TX| NA-US-TX-FORT WORTH|        false|           2126|               4053| 122396986|\n",
      "|       61393|  76177|   STANDARD|           FT WORTH|   TX|    ACCEPTABLE|32.75| -97.33| -0.1|-0.83| 0.54|         NA|     US|        Ft Worth, TX|   NA-US-TX-FT WORTH|        false|           2126|               4053| 122396986|\n",
      "|           4|    704|   STANDARD|    URB EUGENE RICE|   PR|NOT ACCEPTABLE|17.96| -66.22| 0.38|-0.87|  0.3|         NA|     US| Urb Eugene Rice, PR|NA-US-PR-URB EUGE...|        false|           null|               null|      null|\n",
      "|       39827|  85209|   STANDARD|               MESA|   AZ|       PRIMARY|33.37|-111.64| -0.3|-0.77| 0.55|         NA|     US|            Mesa, AZ|       NA-US-AZ-MESA|        false|          14962|              26883| 563792730|\n",
      "|       39828|  85210|   STANDARD|               MESA|   AZ|       PRIMARY|33.38|-111.84|-0.31|-0.77| 0.55|         NA|     US|            Mesa, AZ|       NA-US-AZ-MESA|        false|          14374|              25446| 471000465|\n",
      "|       49345|  32046|   STANDARD|           HILLIARD|   FL|       PRIMARY|30.69| -81.92| 0.12|-0.85| 0.51|         NA|     US|        Hilliard, FL|   NA-US-FL-HILLIARD|        false|           3922|               7443| 133112149|\n",
      "|       49346|  34445|     PO BOX|             HOLDER|   FL|       PRIMARY|28.96| -82.41| 0.11|-0.86| 0.48|         NA|     US|          Holder, FL|     NA-US-FL-HOLDER|        false|           null|               null|      null|\n",
      "|       49347|  32564|   STANDARD|               HOLT|   FL|       PRIMARY|30.72| -86.67| 0.04|-0.85| 0.51|         NA|     US|            Holt, FL|       NA-US-FL-HOLT|        false|           1207|               2190|  36395913|\n",
      "|       49348|  34487|     PO BOX|          HOMOSASSA|   FL|       PRIMARY|28.78| -82.61| 0.11|-0.86| 0.48|         NA|     US|       Homosassa, FL|  NA-US-FL-HOMOSASSA|        false|           null|               null|      null|\n",
      "|          10|    708|   STANDARD|       BDA SAN LUIS|   PR|NOT ACCEPTABLE|18.14| -66.26| 0.38|-0.86| 0.31|         NA|     US|    Bda San Luis, PR|NA-US-PR-BDA SAN ...|        false|           null|               null|      null|\n",
      "|           3|    704|   STANDARD|      SECT LANAUSSE|   PR|NOT ACCEPTABLE|17.96| -66.22| 0.38|-0.87|  0.3|         NA|     US|   Sect Lanausse, PR|NA-US-PR-SECT LAN...|        false|           null|               null|      null|\n",
      "|       54354|  36275|     PO BOX|      SPRING GARDEN|   AL|       PRIMARY|33.97| -85.55| 0.06|-0.82| 0.55|         NA|     US|   Spring Garden, AL|NA-US-AL-SPRING G...|        false|           null|               null|      null|\n",
      "|       54355|  35146|   STANDARD|        SPRINGVILLE|   AL|       PRIMARY|33.77| -86.47| 0.05|-0.82| 0.55|         NA|     US|     Springville, AL|NA-US-AL-SPRINGVILLE|        false|           4046|               7845| 172127599|\n",
      "|       54356|  35585|   STANDARD|        SPRUCE PINE|   AL|       PRIMARY|34.37| -87.69| 0.03|-0.82| 0.56|         NA|     US|     Spruce Pine, AL|NA-US-AL-SPRUCE PINE|        false|            610|               1209|  18525517|\n",
      "|       76511|  27007|   STANDARD|           ASH HILL|   NC|NOT ACCEPTABLE| 36.4| -80.56| 0.13|-0.79| 0.59|         NA|     US|        Ash Hill, NC|   NA-US-NC-ASH HILL|        false|            842|               1666|  28876493|\n",
      "|       76512|  27203|   STANDARD|           ASHEBORO|   NC|       PRIMARY|35.71| -79.81| 0.14|-0.79| 0.58|         NA|     US|        Asheboro, NC|   NA-US-NC-ASHEBORO|        false|           8355|              15228| 215474318|\n",
      "+------------+-------+-----------+-------------------+-----+--------------+-----+-------+-----+-----+-----+-----------+-------+--------------------+--------------------+-------------+---------------+-------------------+----------+\n",
      "only showing top 20 rows\n",
      "\n"
     ]
    }
   ],
   "source": [
    "df.na.drop(subset=['Zipcode','Lat','Long']).show()"
   ]
  },
  {
   "cell_type": "code",
   "execution_count": 103,
   "metadata": {},
   "outputs": [
    {
     "name": "stdout",
     "output_type": "stream",
     "text": [
      "+------------+-------+-----------+----+-----+------------+-----+-------+-----+-----+-----+-----------+-------+------------+-------------+-------------+---------------+-------------------+----------+\n",
      "|RecordNumber|Zipcode|ZipCodeType|City|State|LocationType|  Lat|   Long|Xaxis|Yaxis|Zaxis|WorldRegion|Country|LocationText|     Location|Decommisioned|TaxReturnsFiled|EstimatedPopulation|TotalWages|\n",
      "+------------+-------+-----------+----+-----+------------+-----+-------+-----+-----+-----+-----------+-------+------------+-------------+-------------+---------------+-------------------+----------+\n",
      "|       39827|  85209|   STANDARD|MESA|   AZ|     PRIMARY|33.37|-111.64| -0.3|-0.77| 0.55|         NA|     US|    Mesa, AZ|NA-US-AZ-MESA|        false|          14962|              26883| 563792730|\n",
      "|       39828|  85210|   STANDARD|MESA|   AZ|     PRIMARY|33.38|-111.84|-0.31|-0.77| 0.55|         NA|     US|    Mesa, AZ|NA-US-AZ-MESA|        false|          14374|              25446| 471000465|\n",
      "+------------+-------+-----------+----+-----+------------+-----+-------+-----+-----+-----+-----------+-------+------------+-------------+-------------+---------------+-------------------+----------+\n",
      "\n"
     ]
    }
   ],
   "source": [
    "df.filter('Long < -100.0').show()"
   ]
  },
  {
   "cell_type": "code",
   "execution_count": 106,
   "metadata": {},
   "outputs": [
    {
     "name": "stdout",
     "output_type": "stream",
     "text": [
      "+------------+-------+-----------+----+-----+------------+-----+-------+-----+-----+-----+-----------+-------+------------+-------------+-------------+---------------+-------------------+----------+\n",
      "|RecordNumber|Zipcode|ZipCodeType|City|State|LocationType|  Lat|   Long|Xaxis|Yaxis|Zaxis|WorldRegion|Country|LocationText|     Location|Decommisioned|TaxReturnsFiled|EstimatedPopulation|TotalWages|\n",
      "+------------+-------+-----------+----+-----+------------+-----+-------+-----+-----+-----+-----------+-------+------------+-------------+-------------+---------------+-------------------+----------+\n",
      "|       39827|  85209|   STANDARD|MESA|   AZ|     PRIMARY|33.37|-111.64| -0.3|-0.77| 0.55|         NA|     US|    Mesa, AZ|NA-US-AZ-MESA|        false|          14962|              26883| 563792730|\n",
      "|       39828|  85210|   STANDARD|MESA|   AZ|     PRIMARY|33.38|-111.84|-0.31|-0.77| 0.55|         NA|     US|    Mesa, AZ|NA-US-AZ-MESA|        false|          14374|              25446| 471000465|\n",
      "+------------+-------+-----------+----+-----+------------+-----+-------+-----+-----+-----+-----------+-------+------------+-------------+-------------+---------------+-------------------+----------+\n",
      "\n"
     ]
    }
   ],
   "source": [
    "df.filter( (f.col('Lat') > 40.0) | (f.col('Long') < -100.0) ).show()"
   ]
  }
 ],
 "metadata": {
  "kernelspec": {
   "display_name": "Python 3 (ipykernel)",
   "language": "python",
   "name": "python3"
  },
  "language_info": {
   "codemirror_mode": {
    "name": "ipython",
    "version": 3
   },
   "file_extension": ".py",
   "mimetype": "text/x-python",
   "name": "python",
   "nbconvert_exporter": "python",
   "pygments_lexer": "ipython3",
   "version": "3.9.16"
  },
  "orig_nbformat": 4
 },
 "nbformat": 4,
 "nbformat_minor": 2
}
